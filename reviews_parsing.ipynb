{
 "cells": [
  {
   "cell_type": "code",
   "execution_count": 1,
   "metadata": {},
   "outputs": [
    {
     "name": "stdout",
     "output_type": "stream",
     "text": [
      "total 5396028\r\n",
      "drwxrwxr-x 2 ichwan ichwan       4096 May  7 23:04 .\r\n",
      "drwxrwxr-x 6 ichwan ichwan       4096 May  7 23:41 ..\r\n",
      "-rw-rw-r-- 1 ichwan ichwan      99875 Feb  6 23:57 Dataset_Challenge_Dataset_Agreement.pdf\r\n",
      "-rw-rw-r-- 1 ichwan ichwan   41377121 Feb  7 00:02 yelp_business_attributes.csv\r\n",
      "-rw-rw-r-- 1 ichwan ichwan   31760674 Feb  6 23:57 yelp_business.csv\r\n",
      "-rw-rw-r-- 1 ichwan ichwan   13866351 Feb  6 23:59 yelp_business_hours.csv\r\n",
      "-rw-rw-r-- 1 ichwan ichwan  135964892 Feb  6 23:57 yelp_checkin.csv\r\n",
      "-rw-rw-r-- 1 ichwan ichwan 3791120545 Feb  7 00:02 yelp_review.csv\r\n",
      "-rw-rw-r-- 1 ichwan ichwan      45957 May  7 23:04 yelp_review_subset.csv\r\n",
      "-rw-rw-r-- 1 ichwan ichwan  148085910 Feb  7 00:02 yelp_tip.csv\r\n",
      "-rw-rw-r-- 1 ichwan ichwan 1363176944 Feb  6 23:59 yelp_user.csv\r\n"
     ]
    }
   ],
   "source": [
    "!ls -al datasets"
   ]
  },
  {
   "cell_type": "markdown",
   "metadata": {},
   "source": [
    "For testing purpose, I use _only_ the first 514 lines from `yelp_review.csv` using the following command in terminal or git bash:\n",
    "\n",
    "    head -n 514 yelp_review.csv > yelp_review_subset.csv"
   ]
  },
  {
   "cell_type": "code",
   "execution_count": 2,
   "metadata": {},
   "outputs": [],
   "source": [
    "# Set up directories to the datasets\n",
    "REVIEW_PATH = './datasets/yelp_review_subset.csv'"
   ]
  },
  {
   "cell_type": "code",
   "execution_count": 3,
   "metadata": {},
   "outputs": [
    {
     "data": {
      "text/plain": [
       "[['vkVSCC7xljjrAI4UGfnKEQ',\n",
       "  'bv2nCi5Qv5vroFiqKGopiw',\n",
       "  'AEx2SYEUJmTxVVB18LlCwA',\n",
       "  '5',\n",
       "  '2016-05-28',\n",
       "  \"Super simple place but amazing nonetheless. It's been around since the 30's and they still serve the same thing they started with: a bologna and salami sandwich with mustard. \\n\\nStaff was very helpful and friendly.\",\n",
       "  '0',\n",
       "  '0',\n",
       "  '0']]"
      ]
     },
     "execution_count": 3,
     "metadata": {},
     "output_type": "execute_result"
    }
   ],
   "source": [
    "# Create an RDD from the yelp review dataset\n",
    "def yield_record(filename):\n",
    "    import csv\n",
    "    \n",
    "    with open(filename, 'rb') as fi:\n",
    "        reader = csv.reader(fi)\n",
    "        reader.next()\n",
    "        for row in reader:\n",
    "            yield row\n",
    "            \n",
    "review_rdd = sc.parallelize(yield_record(REVIEW_PATH)).cache()\n",
    "review_rdd.take(1)"
   ]
  },
  {
   "cell_type": "code",
   "execution_count": 4,
   "metadata": {},
   "outputs": [],
   "source": [
    "# Create the schema necessary for the creation of a DataFrame\n",
    "from pyspark.sql.types import *\n",
    "schema = StructType([\n",
    "    StructField(\"review_id\", StringType(), False), \n",
    "    StructField(\"user_id\", StringType(), False),\n",
    "    StructField(\"business_id\", StringType(), False),    \n",
    "    StructField(\"stars\", StringType(), True),    \n",
    "    StructField(\"date\", StringType(), True),    \n",
    "    StructField(\"text\", StringType(), True),    \n",
    "    StructField(\"useful\", StringType(), True),    \n",
    "    StructField(\"funny\", StringType(), True),    \n",
    "    StructField(\"cool\", StringType(), True)])"
   ]
  },
  {
   "cell_type": "code",
   "execution_count": 5,
   "metadata": {},
   "outputs": [
    {
     "name": "stdout",
     "output_type": "stream",
     "text": [
      "root\n",
      " |-- review_id: string (nullable = false)\n",
      " |-- user_id: string (nullable = false)\n",
      " |-- business_id: string (nullable = false)\n",
      " |-- stars: string (nullable = true)\n",
      " |-- date: string (nullable = true)\n",
      " |-- text: string (nullable = true)\n",
      " |-- useful: string (nullable = true)\n",
      " |-- funny: string (nullable = true)\n",
      " |-- cool: string (nullable = true)\n",
      "\n"
     ]
    }
   ],
   "source": [
    "# Create a dataframe using the RDD and the previously declared schema\n",
    "review_df = spark.createDataFrame(review_rdd, schema)\n",
    "review_df.printSchema()"
   ]
  },
  {
   "cell_type": "code",
   "execution_count": 6,
   "metadata": {},
   "outputs": [
    {
     "data": {
      "text/plain": [
       "[Row(review_id=u'vkVSCC7xljjrAI4UGfnKEQ', user_id=u'bv2nCi5Qv5vroFiqKGopiw', business_id=u'AEx2SYEUJmTxVVB18LlCwA', stars=5, date=datetime.date(2016, 5, 28), text=u\"Super simple place but amazing nonetheless. It's been around since the 30's and they still serve the same thing they started with: a bologna and salami sandwich with mustard. \\n\\nStaff was very helpful and friendly.\", useful=0, funny=0, cool=0),\n",
       " Row(review_id=u'n6QzIUObkYshz4dz2QRJTw', user_id=u'bv2nCi5Qv5vroFiqKGopiw', business_id=u'VR6GpWIda3SfvPC-lg9H3w', stars=5, date=datetime.date(2016, 5, 28), text=u\"Small unassuming place that changes their menu every so often. Cool decor and vibe inside their 30 seat restaurant. Call for a reservation. \\n\\nWe had their beef tartar and pork belly to start and a salmon dish and lamb meal for mains. Everything was incredible! I could go on at length about how all the listed ingredients really make their dishes amazing but honestly you just need to go. \\n\\nA bit outside of downtown montreal but take the metro out and it's less than a 10 minute walk from the station.\", useful=0, funny=0, cool=0),\n",
       " Row(review_id=u'MV3CcKScW05u5LVfF6ok0g', user_id=u'bv2nCi5Qv5vroFiqKGopiw', business_id=u'CKC0-MOWMqoeWf6s-szl8g', stars=5, date=datetime.date(2016, 5, 28), text=u\"Lester's is located in a beautiful neighborhood and has been there since 1951. They are known for smoked meat which most deli's have but their brisket sandwich is what I come to montreal for. They've got about 12 seats outside to go along with the inside. \\n\\nThe smoked meat is up there in quality and taste with Schwartz's and you'll find less tourists at Lester's as well.\", useful=0, funny=0, cool=0),\n",
       " Row(review_id=u'IXvOzsEMYtiJI0CARmj77Q', user_id=u'bv2nCi5Qv5vroFiqKGopiw', business_id=u'ACFtxLv8pGrrxMm6EgjreA', stars=4, date=datetime.date(2016, 5, 28), text=u\"Love coming here. Yes the place always needs the floor swept but when you give out  peanuts in the shell how won't it always be a bit dirty. \\n\\nThe food speaks for itself, so good. Burgers are made to order and the meat is put on the grill when you order your sandwich. Getting the small burger just means 1 patty, the regular is a 2 patty burger which is twice the deliciousness. \\n\\nGetting the Cajun fries adds a bit of spice to them and whatever size you order they always throw more fries (a lot more fries) into the bag.\", useful=0, funny=0, cool=0),\n",
       " Row(review_id=u'L_9BTb55X0GDtThi6GlZ6w', user_id=u'bv2nCi5Qv5vroFiqKGopiw', business_id=u's2I_Ni76bjJNK9yG60iD-Q', stars=4, date=datetime.date(2016, 5, 28), text=u\"Had their chocolate almond croissant and it was amazing! So light and buttery and oh my how chocolaty.\\n\\nIf you're looking for a light breakfast then head out here. Perfect spot for a coffee\\\\/latt\\xc3\\xa9 before heading out to the old port\", useful=0, funny=0, cool=0)]"
      ]
     },
     "execution_count": 6,
     "metadata": {},
     "output_type": "execute_result"
    }
   ],
   "source": [
    "# Cast all columns to the appropriate datatype\n",
    "review_df = review_df.select(review_df['review_id'], \n",
    "                             review_df['user_id'],\n",
    "                             review_df['business_id'], \n",
    "                             review_df['stars'].cast(IntegerType()), \n",
    "                             review_df['date'].cast(DateType()), \n",
    "                             review_df['text'], \n",
    "                             review_df['useful'].cast(IntegerType()),\n",
    "                             review_df['funny'].cast(IntegerType()),\n",
    "                             review_df['cool'].cast(IntegerType()),\n",
    "                            ).cache()\n",
    "\n",
    "review_df.take(5)"
   ]
  },
  {
   "cell_type": "code",
   "execution_count": 7,
   "metadata": {},
   "outputs": [
    {
     "name": "stdout",
     "output_type": "stream",
     "text": [
      "+-------+------------------+------------------+-------------------+-------------------+\n",
      "|summary|             stars|            useful|              funny|               cool|\n",
      "+-------+------------------+------------------+-------------------+-------------------+\n",
      "|  count|                77|                77|                 77|                 77|\n",
      "|   mean|3.3376623376623376|1.2727272727272727|0.19480519480519481|0.35064935064935066|\n",
      "| stddev|1.1877709066100248|2.2747837585857162| 0.7078313997690232| 0.7392427449447984|\n",
      "|    min|                 1|                 0|                  0|                  0|\n",
      "|    max|                 5|                11|                  5|                  5|\n",
      "+-------+------------------+------------------+-------------------+-------------------+\n",
      "\n"
     ]
    }
   ],
   "source": [
    "review_df.describe(['stars', 'useful', 'funny', 'cool']).show()"
   ]
  },
  {
   "cell_type": "code",
   "execution_count": 8,
   "metadata": {},
   "outputs": [
    {
     "data": {
      "text/plain": [
       "16"
      ]
     },
     "execution_count": 8,
     "metadata": {},
     "output_type": "execute_result"
    }
   ],
   "source": [
    "review_df.filter(review_df.stars < 3).count()"
   ]
  }
 ],
 "metadata": {
  "kernelspec": {
   "display_name": "Python 2",
   "language": "python",
   "name": "python2"
  },
  "language_info": {
   "codemirror_mode": {
    "name": "ipython",
    "version": 2
   },
   "file_extension": ".py",
   "mimetype": "text/x-python",
   "name": "python",
   "nbconvert_exporter": "python",
   "pygments_lexer": "ipython2",
   "version": "2.7.14"
  }
 },
 "nbformat": 4,
 "nbformat_minor": 2
}
