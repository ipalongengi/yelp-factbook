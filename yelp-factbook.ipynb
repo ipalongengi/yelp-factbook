{
 "cells": [
  {
   "cell_type": "code",
   "execution_count": 1,
   "metadata": {},
   "outputs": [],
   "source": [
    "# Declare all path to the dataset\n",
    "REVIEW_FN = './dataset/yelp_review.csv'\n",
    "BUSINESS_FN = './dataset/yelp_business.csv'"
   ]
  },
  {
   "cell_type": "markdown",
   "metadata": {},
   "source": [
    "# Parsing `yelp_review.csv` dataset\n",
    "\n",
    "Since this dataset contains multi-line field, parsing it was proven to be a real challenge. This problem was mitigated by using `SparkContext` built-in method `mapPartitionsWithIndex()` which takes as its argument a function with two parameters.\n",
    "\n",
    "One downside to this solution is that some of the records from the dataset will be lost since they lies in the boundary of the partitions when Spark decides to split the dataset into smaller subsets to be consumed by worker nodes."
   ]
  },
  {
   "cell_type": "code",
   "execution_count": 2,
   "metadata": {},
   "outputs": [],
   "source": [
    "def extract_row(index, lines):\n",
    "    \"\"\"\n",
    "    Yield a row of strings that has been parsed\n",
    "    correctly by the CSV reader.\n",
    "    \n",
    "    Only rows with nine elements are valid as per\n",
    "    the schema of the original CSV file\n",
    "    \"\"\"\n",
    "    import csv\n",
    "    \n",
    "    if index == 0:\n",
    "        lines.next()\n",
    "        \n",
    "    reader = csv.reader(lines)\n",
    "    for row in reader:\n",
    "        if len(row) == 9:\n",
    "            yield row"
   ]
  },
  {
   "cell_type": "code",
   "execution_count": 3,
   "metadata": {},
   "outputs": [],
   "source": [
    "# Create an RDD that correctly parses the Yelp review dataset\n",
    "reviews_rdd = sc.textFile(REVIEW_FN, use_unicode=False) \\\n",
    "                .coalesce(29) \\\n",
    "                .mapPartitionsWithIndex(extract_row)"
   ]
  },
  {
   "cell_type": "markdown",
   "metadata": {},
   "source": [
    "# Parse `yelp_business.csv` dataset"
   ]
  },
  {
   "cell_type": "code",
   "execution_count": 4,
   "metadata": {},
   "outputs": [],
   "source": [
    "# Create an RDD that correctly parses the Yelp business dataset\n",
    "from operator import add\n",
    "business_rdd = sc.textFile(BUSINESS_FN, use_unicode=False) "
   ]
  },
  {
   "cell_type": "markdown",
   "metadata": {},
   "source": [
    "## Top 40 Business Categories"
   ]
  },
  {
   "cell_type": "code",
   "execution_count": 5,
   "metadata": {},
   "outputs": [],
   "source": [
    "def extract_business_categories(pid, lines):\n",
    "    \"\"\"\n",
    "    Yield the 13th column of the yelp_business.csv dataset\n",
    "    which contains the categories in which a business can \n",
    "    be categorized\n",
    "    \"\"\"\n",
    "    import csv\n",
    "    \n",
    "    if pid == 0:\n",
    "        lines.next()\n",
    "        \n",
    "    reader = csv.reader(lines)\n",
    "    for row in reader:\n",
    "        yield row[12]"
   ]
  },
  {
   "cell_type": "code",
   "execution_count": 6,
   "metadata": {},
   "outputs": [
    {
     "data": {
      "text/plain": [
       "[('Restaurants', 54618),\n",
       " ('Shopping', 27971),\n",
       " ('Food', 24777),\n",
       " ('Beauty & Spas', 17014),\n",
       " ('Home Services', 16205),\n",
       " ('Health & Medical', 14230),\n",
       " ('Nightlife', 12154),\n",
       " ('Local Services', 11232),\n",
       " ('Automotive', 11052),\n",
       " ('Bars', 10563),\n",
       " ('Event Planning & Services', 9078),\n",
       " ('Active Life', 8257),\n",
       " ('Fashion', 7019),\n",
       " ('Sandwiches', 6345),\n",
       " ('Fast Food', 6280),\n",
       " ('Hair Salons', 6140),\n",
       " ('American (Traditional)', 6097),\n",
       " ('Pizza', 6067),\n",
       " ('Coffee & Tea', 5936),\n",
       " ('Hotels & Travel', 5736),\n",
       " ('Arts & Entertainment', 5515),\n",
       " ('Home & Garden', 5379),\n",
       " ('Auto Repair', 5172),\n",
       " ('Doctors', 4838),\n",
       " ('Professional Services', 4752),\n",
       " ('Italian', 4662),\n",
       " ('Real Estate', 4611),\n",
       " ('Burgers', 4558),\n",
       " ('Breakfast & Brunch', 4497),\n",
       " ('Nail Salons', 4294),\n",
       " ('Mexican', 4105),\n",
       " ('Fitness & Instruction', 4078),\n",
       " ('Chinese', 3987),\n",
       " ('American (New)', 3979),\n",
       " ('Specialty Food', 3966),\n",
       " ('Pets', 3579),\n",
       " ('Bakeries', 3261),\n",
       " ('Grocery', 3247),\n",
       " ('Hair Removal', 3190),\n",
       " ('Dentists', 3079)]"
      ]
     },
     "execution_count": 6,
     "metadata": {},
     "output_type": "execute_result"
    }
   ],
   "source": [
    "top_business_rdd = business_rdd \\\n",
    "                .mapPartitionsWithIndex(extract_business_categories) \\\n",
    "                .flatMap(lambda x: x.split(';')) \\\n",
    "                .map(lambda x: (x, 1)) \\\n",
    "                .reduceByKey(add) \\\n",
    "                .sortBy(lambda x: x[1], ascending=False)\n",
    "top_business_rdd.take(40)"
   ]
  },
  {
   "cell_type": "markdown",
   "metadata": {},
   "source": [
    "## Business Categories with Ratings Greater than 3"
   ]
  },
  {
   "cell_type": "code",
   "execution_count": 7,
   "metadata": {},
   "outputs": [
    {
     "data": {
      "text/plain": [
       "[('4JNXUYY8wbaaDmk3BPzlWw', 6710),\n",
       " ('RESDUcs7fIiihp38-d6_6g', 5723),\n",
       " ('K7lWdNUhCbcnEvI0NhGewg', 4909),\n",
       " ('cYwJA2A6I12KNkm2rtXd5g', 4655),\n",
       " ('DkYS3arLOhA8si5uUEmHOw', 4620),\n",
       " ('f4x1YBxkLrZg652xt2KR5g', 4094),\n",
       " ('KskYqH1Bi7Z_61pH6Om8pg', 3621),\n",
       " ('iCQpiavjjPzJ5_3gPD5Ebg', 3480),\n",
       " ('2weQS-RnoOBhb1KsHKyoSQ', 3244),\n",
       " ('rcaPajgKOJC2vo_l3xa42A', 3139),\n",
       " ('hihud--QRriCYZw1zZvW4g', 3133),\n",
       " ('5LNZ67Yw9RD6nf4_UhXOjw', 3066),\n",
       " ('ujHiaprwCQ5ewziu0Vi9rw', 2893),\n",
       " ('SMPbvZLSMMb7KU76YNYMGg', 2844),\n",
       " ('XZbuPXdyA0ZtTu3AzqtQhg', 2644),\n",
       " ('7sPNbCx7vGAaH7SbNPZ6oA', 2634),\n",
       " ('eoHdUeQDNgQ6WYEnP2aiRw', 2627),\n",
       " ('Wxxvi3LZbHNIDwJ-ZimtnA', 2623),\n",
       " ('FaHADZARwnY4yvlvpnsfGA', 2620),\n",
       " ('g8OnV26ywJlZpezdBnOWUQ', 2528),\n",
       " ('3kdSl5mo9dWC4clrQjEDGg', 2484),\n",
       " ('P7pxQFqr7yBKMMI2J51udw', 2450),\n",
       " ('OETh78qcgDltvHULowwhJg', 2396),\n",
       " ('XXW_OFaYQkkGOGniujZFHg', 2380),\n",
       " ('MpmFFw0GE_2iRFPdsRpJbA', 2344),\n",
       " ('QJatAcxYgK1Zp9BRZMAx7g', 2296),\n",
       " ('faPVqws-x-5k2CQKDNtHxw', 2225),\n",
       " ('NvKNe9DnQavC9GstglcBJQ', 2223),\n",
       " ('na4Th5DrNauOv-c43QQFvA', 2196),\n",
       " ('El4FC8jcawUVgw_0EIcbaQ', 2191),\n",
       " ('RwMLuOkImBIqqYj4SSKSPg', 2182),\n",
       " ('fL-b760btOaGa85OJ9ut3w', 2157),\n",
       " ('Cni2l-VKG_pdospJ6xliXQ', 2127),\n",
       " ('UPIYuRaZvknINOd1w8kqRQ', 2115),\n",
       " ('t-o_Sraneime4DDhWrQRBA', 2039),\n",
       " ('awI4hHMfa7H0Xf0-ChU5hg', 1994),\n",
       " ('yfxDa8RFOvJPQh0rNtakHA', 1947),\n",
       " ('WYw3Uf56DT5IwpaLNnCH5Q', 1941),\n",
       " ('HhVmDybpU7L50Kb5A0jXTg', 1936),\n",
       " ('uGupeWqih0yIcCg8anM1PA', 1922)]"
      ]
     },
     "execution_count": 7,
     "metadata": {},
     "output_type": "execute_result"
    }
   ],
   "source": [
    "biz_rating_total = reviews_rdd \\\n",
    "                .map(lambda x: (x[2], int(x[3]))) \\\n",
    "                .filter(lambda x: x[1] >= 3) \\\n",
    "                .map(lambda x: (x[0], 1)) \\\n",
    "                .reduceByKey(add) \\\n",
    "                .sortBy(lambda x: x[1], ascending=False)\n",
    "\n",
    "biz_rating_total.take(40)\n",
    "# business_ratings_aggr.count()"
   ]
  },
  {
   "cell_type": "code",
   "execution_count": 8,
   "metadata": {},
   "outputs": [
    {
     "data": {
      "text/plain": [
       "[('FYWN1wneV18bWNgQjJ2GNg',\n",
       "  ['Dentists',\n",
       "   'General Dentistry',\n",
       "   'Health & Medical',\n",
       "   'Oral Surgeons',\n",
       "   'Cosmetic Dentists',\n",
       "   'Orthodontists']),\n",
       " ('He-G7vWjzVUysIKrfNbPUQ',\n",
       "  ['Hair Stylists',\n",
       "   'Hair Salons',\n",
       "   \"Men's Hair Salons\",\n",
       "   'Blow Dry/Out Services',\n",
       "   'Hair Extensions',\n",
       "   'Beauty & Spas']),\n",
       " ('KQPW8lFf1y5BT2MxiSZ3QA',\n",
       "  ['Departments of Motor Vehicles', 'Public Services & Government']),\n",
       " ('8DShNS-LuFqpEWIp0HxijA', ['Sporting Goods', 'Shopping']),\n",
       " ('PfOCPjBrlQAnz__NXj9h_w',\n",
       "  ['American (New)',\n",
       "   'Nightlife',\n",
       "   'Bars',\n",
       "   'Sandwiches',\n",
       "   'American (Traditional)',\n",
       "   'Burgers',\n",
       "   'Restaurants']),\n",
       " ('o9eMRCWt5PkpLDE0gOPtcQ', ['Italian', 'Restaurants']),\n",
       " ('kCoE3jvEtg6UVz5SOD3GVw',\n",
       "  ['Real Estate Services',\n",
       "   'Real Estate',\n",
       "   'Home Services',\n",
       "   'Property Management']),\n",
       " ('OD2hnuuTJI9uotcKycxg1A', ['Shopping', 'Sporting Goods']),\n",
       " ('EsMcGiZaQuG1OOvL9iUFug',\n",
       "  ['Coffee & Tea', 'Ice Cream & Frozen Yogurt', 'Food']),\n",
       " ('TGWhGNusxyMaA4kQVBNeew', ['Automotive', 'Auto Detailing'])]"
      ]
     },
     "execution_count": 8,
     "metadata": {},
     "output_type": "execute_result"
    }
   ],
   "source": [
    "def extract_biz_cat(pid, lines):\n",
    "    \"\"\"\n",
    "    Yield a tuple of business_id and the list\n",
    "    of categories the business falls into\n",
    "    \"\"\"\n",
    "    import csv\n",
    "    \n",
    "    if pid == 0:\n",
    "        lines.next()\n",
    "        \n",
    "    reader = csv.reader(lines)\n",
    "    for row in reader:\n",
    "        yield (row[0], row[12].split(';'))\n",
    "\n",
    "biz_cat_rdd = business_rdd \\\n",
    "                .mapPartitionsWithIndex(extract_biz_cat)\n",
    "\n",
    "biz_cat_rdd.take(10)"
   ]
  },
  {
   "cell_type": "code",
   "execution_count": 11,
   "metadata": {},
   "outputs": [
    {
     "data": {
      "text/plain": [
       "[('Restaurants', 2549014),\n",
       " ('Food', 815298),\n",
       " ('Nightlife', 691681),\n",
       " ('Bars', 636709),\n",
       " ('American (New)', 419021),\n",
       " ('American (Traditional)', 395256),\n",
       " ('Breakfast & Brunch', 377027),\n",
       " ('Event Planning & Services', 292425),\n",
       " ('Shopping', 291758),\n",
       " ('Sandwiches', 270878),\n",
       " ('Beauty & Spas', 253839),\n",
       " ('Arts & Entertainment', 243321),\n",
       " ('Mexican', 232217),\n",
       " ('Pizza', 232158),\n",
       " ('Italian', 231012),\n",
       " ('Burgers', 208839),\n",
       " ('Coffee & Tea', 198537),\n",
       " ('Seafood', 197664),\n",
       " ('Japanese', 180204),\n",
       " ('Hotels & Travel', 175893),\n",
       " ('Desserts', 158282),\n",
       " ('Sushi Bars', 151200),\n",
       " ('Chinese', 147546),\n",
       " ('Home Services', 146764),\n",
       " ('Steakhouses', 144534),\n",
       " ('Asian Fusion', 137991),\n",
       " ('Active Life', 134516),\n",
       " ('Cafes', 134165),\n",
       " ('Salad', 134157),\n",
       " ('Automotive', 132026),\n",
       " ('Health & Medical', 131158),\n",
       " ('Hotels', 124240),\n",
       " ('Bakeries', 116805),\n",
       " ('Specialty Food', 116690),\n",
       " ('Local Services', 113395),\n",
       " ('Pubs', 103119),\n",
       " ('Fast Food', 102919),\n",
       " ('Barbeque', 98390),\n",
       " ('Wine Bars', 94795),\n",
       " ('Cocktail Bars', 94577)]"
      ]
     },
     "execution_count": 11,
     "metadata": {},
     "output_type": "execute_result"
    }
   ],
   "source": [
    "cat_freq = biz_cat_rdd \\\n",
    "        .join(biz_rating_total) \\\n",
    "        .map(lambda x: [(r, x[1][1]) for r in x[1][0]]) \\\n",
    "        .flatMap(lambda x: x) \\\n",
    "        .reduceByKey(add) \\\n",
    "        .sortBy(lambda x: x[1], ascending=False)\n",
    "cat_freq.take(40)"
   ]
  }
 ],
 "metadata": {
  "kernelspec": {
   "display_name": "Python 2",
   "language": "python",
   "name": "python2"
  },
  "language_info": {
   "codemirror_mode": {
    "name": "ipython",
    "version": 2
   },
   "file_extension": ".py",
   "mimetype": "text/x-python",
   "name": "python",
   "nbconvert_exporter": "python",
   "pygments_lexer": "ipython2",
   "version": "2.7.14"
  }
 },
 "nbformat": 4,
 "nbformat_minor": 2
}
